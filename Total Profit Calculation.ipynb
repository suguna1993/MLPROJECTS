{
 "cells": [
  {
   "cell_type": "markdown",
   "id": "4c90427f",
   "metadata": {},
   "source": [
    "# You work for a manufacturer, and have been asked to calculate the total profit made on the sales of a product. You are given a dictionary containing the cost price per unit (in dollars), sell price per unit (in dollars), and the starting inventory. Return the total profit made, rounded to the nearest dollar."
   ]
  },
  {
   "cell_type": "code",
   "execution_count": 5,
   "id": "b39c9b76",
   "metadata": {},
   "outputs": [
    {
     "name": "stdout",
     "output_type": "stream",
     "text": [
      "14796\n"
     ]
    }
   ],
   "source": [
    "def calculate_profit(prof):\n",
    "    cp=prof[\"cost_price\"]\n",
    "    sp=prof[\"sell_price\"]\n",
    "    inven=prof[\"inventory\"]\n",
    "    total_profit = (sp - cp) * inven\n",
    "    return round(total_profit)\n",
    "    \n",
    "profit = {\"cost_price\": 32.67, \"sell_price\": 45.00, \"inventory\": 1200}\n",
    "print(calculate_profit(profit))"
   ]
  },
  {
   "cell_type": "code",
   "execution_count": null,
   "id": "e6d1ed4b",
   "metadata": {},
   "outputs": [],
   "source": []
  }
 ],
 "metadata": {
  "kernelspec": {
   "display_name": "Python 3",
   "language": "python",
   "name": "python3"
  },
  "language_info": {
   "codemirror_mode": {
    "name": "ipython",
    "version": 3
   },
   "file_extension": ".py",
   "mimetype": "text/x-python",
   "name": "python",
   "nbconvert_exporter": "python",
   "pygments_lexer": "ipython3",
   "version": "3.8.8"
  }
 },
 "nbformat": 4,
 "nbformat_minor": 5
}
