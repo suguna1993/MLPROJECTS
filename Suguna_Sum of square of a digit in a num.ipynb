{
 "cells": [
  {
   "cell_type": "code",
   "execution_count": 4,
   "id": "f7087f74",
   "metadata": {},
   "outputs": [
    {
     "name": "stdout",
     "output_type": "stream",
     "text": [
      "Enter the number121\n",
      "6\n"
     ]
    }
   ],
   "source": [
    "\n",
    "def sum_of_square_of_each_digits(num):\n",
    "    n=num\n",
    "    remainder=0\n",
    "    sum = 0\n",
    "    while (n>0):\n",
    "        remainder= n%10\n",
    "        sum=sum+remainder*remainder\n",
    "        n=n/10\n",
    "    return int(sum)\n",
    "        \n",
    "        \n",
    "   \n",
    "num=int(input(\"Enter the number\"))\n",
    "a=sum_of_square_of_each_digits(num)\n",
    "print(a)\n",
    " \n",
    "\n",
    "\n"
   ]
  },
  {
   "cell_type": "code",
   "execution_count": null,
   "id": "d32f4a5d",
   "metadata": {},
   "outputs": [],
   "source": []
  },
  {
   "cell_type": "code",
   "execution_count": null,
   "id": "ab66bd45",
   "metadata": {},
   "outputs": [],
   "source": []
  }
 ],
 "metadata": {
  "kernelspec": {
   "display_name": "Python 3",
   "language": "python",
   "name": "python3"
  },
  "language_info": {
   "codemirror_mode": {
    "name": "ipython",
    "version": 3
   },
   "file_extension": ".py",
   "mimetype": "text/x-python",
   "name": "python",
   "nbconvert_exporter": "python",
   "pygments_lexer": "ipython3",
   "version": "3.8.8"
  }
 },
 "nbformat": 4,
 "nbformat_minor": 5
}
