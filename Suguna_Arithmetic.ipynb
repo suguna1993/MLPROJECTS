{
 "cells": [
  {
   "cell_type": "code",
   "execution_count": 2,
   "id": "f2f6a1ee",
   "metadata": {},
   "outputs": [
    {
     "name": "stdout",
     "output_type": "stream",
     "text": [
      "Enter the number1   3\n",
      "Enter the number2   2\n",
      "Enter the operator + - / * +\n",
      "5\n"
     ]
    }
   ],
   "source": [
    "def perform_arithemetic_operation(n1,n2,n3):\n",
    "    if n3=='+':\n",
    "        print(n1+n2)\n",
    "    elif n3=='-':\n",
    "        print(n1-n2)\n",
    "    elif n3=='*':\n",
    "        print(n1*n2)\n",
    "    else:\n",
    "        print(int(n1/n2))\n",
    "\n",
    "\n",
    "num1= int(input(\"Enter the number1   \"))\n",
    "num2=int(input (\"Enter the number2   \"))\n",
    "num3=input(\"Enter the operator + - / * \") \n",
    "perform_arithemetic_operation(num1,num2,num3)\n",
    "\n"
   ]
  },
  {
   "cell_type": "code",
   "execution_count": null,
   "id": "ec8abecc",
   "metadata": {},
   "outputs": [],
   "source": []
  }
 ],
 "metadata": {
  "kernelspec": {
   "display_name": "Python 3",
   "language": "python",
   "name": "python3"
  },
  "language_info": {
   "codemirror_mode": {
    "name": "ipython",
    "version": 3
   },
   "file_extension": ".py",
   "mimetype": "text/x-python",
   "name": "python",
   "nbconvert_exporter": "python",
   "pygments_lexer": "ipython3",
   "version": "3.8.8"
  }
 },
 "nbformat": 4,
 "nbformat_minor": 5
}
