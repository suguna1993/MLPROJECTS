{
 "cells": [
  {
   "cell_type": "code",
   "execution_count": 1,
   "id": "60b48092",
   "metadata": {},
   "outputs": [
    {
     "name": "stdout",
     "output_type": "stream",
     "text": [
      "Enter the number12345678910\n",
      "The number of digit in the given number 12345678910 is 11\n"
     ]
    }
   ],
   "source": [
    "num=input(\"Enter the number\")\n",
    "count=0\n",
    "for i in num:\n",
    "    count=count+1\n",
    "\n",
    "print(\"The number of digit in the given number\",num,\"is\",count)"
   ]
  },
  {
   "cell_type": "code",
   "execution_count": null,
   "id": "bac9e538",
   "metadata": {},
   "outputs": [],
   "source": []
  }
 ],
 "metadata": {
  "kernelspec": {
   "display_name": "Python 3",
   "language": "python",
   "name": "python3"
  },
  "language_info": {
   "codemirror_mode": {
    "name": "ipython",
    "version": 3
   },
   "file_extension": ".py",
   "mimetype": "text/x-python",
   "name": "python",
   "nbconvert_exporter": "python",
   "pygments_lexer": "ipython3",
   "version": "3.8.8"
  }
 },
 "nbformat": 4,
 "nbformat_minor": 5
}
