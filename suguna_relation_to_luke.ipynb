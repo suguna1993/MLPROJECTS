{
 "cells": [
  {
   "cell_type": "code",
   "execution_count": null,
   "id": "987a3da6",
   "metadata": {},
   "outputs": [],
   "source": [
    "\n"
   ]
  },
  {
   "cell_type": "code",
   "execution_count": 1,
   "id": "d631c4d0",
   "metadata": {},
   "outputs": [
    {
     "name": "stdout",
     "output_type": "stream",
     "text": [
      "Enter the nameHan\n",
      "\"Luke, I am your\" \" Brother-In-law \"\n"
     ]
    }
   ],
   "source": [
    "def relation_to_luke(name):\n",
    "    if name == \"DarthVader\":\n",
    "             return \"father\"\n",
    "    elif name == \"Leia\":\n",
    "                return \"sister\"\n",
    "    elif name == \"Han\":\n",
    "             return \"Brother-In-law\"\n",
    "    else:\n",
    "             return \"droid\"\n",
    "\n",
    "name=input(\"Enter the name\")\n",
    "a=relation_to_luke(name)\n",
    "print('\"Luke, I am your\"' ,'\"',a,'\"')\n"
   ]
  },
  {
   "cell_type": "code",
   "execution_count": null,
   "id": "36c3ee6c",
   "metadata": {},
   "outputs": [],
   "source": []
  },
  {
   "cell_type": "code",
   "execution_count": null,
   "id": "407e4a81",
   "metadata": {},
   "outputs": [],
   "source": []
  },
  {
   "cell_type": "code",
   "execution_count": null,
   "id": "1151baa7",
   "metadata": {},
   "outputs": [],
   "source": []
  }
 ],
 "metadata": {
  "kernelspec": {
   "display_name": "Python 3",
   "language": "python",
   "name": "python3"
  },
  "language_info": {
   "codemirror_mode": {
    "name": "ipython",
    "version": 3
   },
   "file_extension": ".py",
   "mimetype": "text/x-python",
   "name": "python",
   "nbconvert_exporter": "python",
   "pygments_lexer": "ipython3",
   "version": "3.8.8"
  }
 },
 "nbformat": 4,
 "nbformat_minor": 5
}
